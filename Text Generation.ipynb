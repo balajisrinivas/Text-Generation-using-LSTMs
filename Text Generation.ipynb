{
 "cells": [
  {
   "cell_type": "markdown",
   "metadata": {},
   "source": [
    "## Text Generation using LSTMs\n",
    "\n",
    "Text Generation is a type of Language Modelling problem. Language Modelling is the core problem for a number of of natural language processing tasks such as speech to text, conversational system, and text summarization. A trained language model learns the likelihood of occurrence of a word based on the previous sequence of words used in the text. Language models can be operated at character level, n-gram level, sentence level or even paragraph level. In this notebook, I created a language model for generating natural language text by implement and training state-of-the-art Recurrent Neural Network."
   ]
  },
  {
   "cell_type": "code",
   "execution_count": 2,
   "metadata": {},
   "outputs": [],
   "source": [
    "# keras module for building LSTM \n",
    "from keras.preprocessing.sequence import pad_sequences\n",
    "from keras.layers import Embedding, LSTM, Dense, Dropout\n",
    "from keras.preprocessing.text import Tokenizer\n",
    "from keras.callbacks import EarlyStopping\n",
    "from keras.models import Sequential\n",
    "import keras.utils as ku \n",
    "\n",
    "import pandas as pd\n",
    "import numpy as np\n",
    "import string, os \n",
    "\n",
    "import warnings\n",
    "warnings.filterwarnings(\"ignore\")\n",
    "warnings.simplefilter(action='ignore', category=FutureWarning)"
   ]
  },
  {
   "cell_type": "code",
   "execution_count": 5,
   "metadata": {},
   "outputs": [
    {
     "data": {
      "text/plain": [
       "831"
      ]
     },
     "execution_count": 5,
     "metadata": {},
     "output_type": "execute_result"
    }
   ],
   "source": [
    "curr_dir = r'C:\\Users\\balajiam\\Documents\\ML Data Analysis\\New York Times Comments\\\\'\n",
    "all_headlines = []\n",
    "for filename in os.listdir(curr_dir):\n",
    "    if 'Articles' in filename:\n",
    "        article_df = pd.read_csv(curr_dir + filename)\n",
    "        all_headlines.extend(list(article_df.headline.values))\n",
    "        break\n",
    "\n",
    "all_headlines = [h for h in all_headlines if h != \"Unknown\"]\n",
    "len(all_headlines)"
   ]
  },
  {
   "cell_type": "code",
   "execution_count": 6,
   "metadata": {},
   "outputs": [
    {
     "data": {
      "text/plain": [
       "['finding an expansive view  of a forgotten people in niger',\n",
       " 'and now  the dreaded trump curse',\n",
       " 'venezuelas descent into dictatorship',\n",
       " 'stain permeates basketball blue blood',\n",
       " 'taking things for granted',\n",
       " 'the caged beast awakens',\n",
       " 'an everunfolding story',\n",
       " 'oreilly thrives as settlements add up',\n",
       " 'mouse infestation',\n",
       " 'divide in gop now threatens trump tax plan']"
      ]
     },
     "execution_count": 6,
     "metadata": {},
     "output_type": "execute_result"
    }
   ],
   "source": [
    "def clean_text(txt):\n",
    "    txt = \"\".join(v for v in txt if v not in string.punctuation).lower()\n",
    "    txt = txt.encode(\"utf8\").decode(\"ascii\",'ignore')\n",
    "    return txt \n",
    "\n",
    "corpus = [clean_text(x) for x in all_headlines]\n",
    "corpus[:10]"
   ]
  },
  {
   "cell_type": "code",
   "execution_count": 7,
   "metadata": {},
   "outputs": [
    {
     "data": {
      "text/plain": [
       "[[169, 17],\n",
       " [169, 17, 665],\n",
       " [169, 17, 665, 367],\n",
       " [169, 17, 665, 367, 4],\n",
       " [169, 17, 665, 367, 4, 2],\n",
       " [169, 17, 665, 367, 4, 2, 666],\n",
       " [169, 17, 665, 367, 4, 2, 666, 170],\n",
       " [169, 17, 665, 367, 4, 2, 666, 170, 5],\n",
       " [169, 17, 665, 367, 4, 2, 666, 170, 5, 667],\n",
       " [6, 80]]"
      ]
     },
     "execution_count": 7,
     "metadata": {},
     "output_type": "execute_result"
    }
   ],
   "source": [
    "tokenizer = Tokenizer()\n",
    "\n",
    "def get_sequence_of_tokens(corpus):\n",
    "    ## tokenization\n",
    "    tokenizer.fit_on_texts(corpus)\n",
    "    total_words = len(tokenizer.word_index) + 1\n",
    "    \n",
    "    ## convert data to sequence of tokens \n",
    "    input_sequences = []\n",
    "    for line in corpus:\n",
    "        token_list = tokenizer.texts_to_sequences([line])[0]\n",
    "        for i in range(1, len(token_list)):\n",
    "            n_gram_sequence = token_list[:i+1]\n",
    "            input_sequences.append(n_gram_sequence)\n",
    "    return input_sequences, total_words\n",
    "\n",
    "inp_sequences, total_words = get_sequence_of_tokens(corpus)\n",
    "inp_sequences[:10]"
   ]
  },
  {
   "cell_type": "code",
   "execution_count": 8,
   "metadata": {},
   "outputs": [],
   "source": [
    "def generate_padded_sequences(input_sequences):\n",
    "    max_sequence_len = max([len(x) for x in input_sequences])\n",
    "    input_sequences = np.array(pad_sequences(input_sequences, maxlen=max_sequence_len, padding='pre'))\n",
    "    \n",
    "    predictors, label = input_sequences[:,:-1],input_sequences[:,-1]\n",
    "    label = ku.to_categorical(label, num_classes=total_words)\n",
    "    return predictors, label, max_sequence_len\n",
    "\n",
    "predictors, label, max_sequence_len = generate_padded_sequences(inp_sequences)"
   ]
  },
  {
   "cell_type": "code",
   "execution_count": 9,
   "metadata": {},
   "outputs": [
    {
     "name": "stdout",
     "output_type": "stream",
     "text": [
      "Model: \"sequential_1\"\n",
      "_________________________________________________________________\n",
      "Layer (type)                 Output Shape              Param #   \n",
      "=================================================================\n",
      "embedding_1 (Embedding)      (None, 18, 10)            24220     \n",
      "_________________________________________________________________\n",
      "lstm_1 (LSTM)                (None, 100)               44400     \n",
      "_________________________________________________________________\n",
      "dropout_1 (Dropout)          (None, 100)               0         \n",
      "_________________________________________________________________\n",
      "dense_1 (Dense)              (None, 2422)              244622    \n",
      "=================================================================\n",
      "Total params: 313,242\n",
      "Trainable params: 313,242\n",
      "Non-trainable params: 0\n",
      "_________________________________________________________________\n"
     ]
    }
   ],
   "source": [
    "def create_model(max_sequence_len, total_words):\n",
    "    input_len = max_sequence_len - 1\n",
    "    model = Sequential()\n",
    "    \n",
    "    # Add Input Embedding Layer\n",
    "    model.add(Embedding(total_words, 10, input_length=input_len))\n",
    "    \n",
    "    # Add Hidden Layer 1 - LSTM Layer\n",
    "    model.add(LSTM(100))\n",
    "    model.add(Dropout(0.1))\n",
    "    \n",
    "    # Add Output Layer\n",
    "    model.add(Dense(total_words, activation='softmax'))\n",
    "\n",
    "    model.compile(loss='categorical_crossentropy', optimizer='adam')\n",
    "    \n",
    "    return model\n",
    "\n",
    "model = create_model(max_sequence_len, total_words)\n",
    "model.summary()"
   ]
  },
  {
   "cell_type": "code",
   "execution_count": 10,
   "metadata": {},
   "outputs": [
    {
     "name": "stdout",
     "output_type": "stream",
     "text": [
      "Epoch 1/100\n",
      "4806/4806 [==============================] - 9s 2ms/step - loss: 7.3791\n",
      "Epoch 2/100\n",
      "4806/4806 [==============================] - 4s 752us/step - loss: 6.9077\n",
      "Epoch 3/100\n",
      "4806/4806 [==============================] - 3s 690us/step - loss: 6.7909\n",
      "Epoch 4/100\n",
      "4806/4806 [==============================] - 4s 774us/step - loss: 6.7115\n",
      "Epoch 5/100\n",
      "4806/4806 [==============================] - 5s 967us/step - loss: 6.6333\n",
      "Epoch 6/100\n",
      "4806/4806 [==============================] - 4s 915us/step - loss: 6.5438\n",
      "Epoch 7/100\n",
      "4806/4806 [==============================] - 5s 1ms/step - loss: 6.4428\n",
      "Epoch 8/100\n",
      "4806/4806 [==============================] - 5s 943us/step - loss: 6.3313\n",
      "Epoch 9/100\n",
      "4806/4806 [==============================] - 4s 845us/step - loss: 6.2189\n",
      "Epoch 10/100\n",
      "4806/4806 [==============================] - 5s 1ms/step - loss: 6.1045\n",
      "Epoch 11/100\n",
      "4806/4806 [==============================] - 4s 907us/step - loss: 5.9928\n",
      "Epoch 12/100\n",
      "4806/4806 [==============================] - 5s 1ms/step - loss: 5.8890\n",
      "Epoch 13/100\n",
      "4806/4806 [==============================] - 5s 956us/step - loss: 5.7799\n",
      "Epoch 14/100\n",
      "4806/4806 [==============================] - 4s 933us/step - loss: 5.6790\n",
      "Epoch 15/100\n",
      "4806/4806 [==============================] - 4s 803us/step - loss: 5.5784\n",
      "Epoch 16/100\n",
      "4806/4806 [==============================] - 3s 701us/step - loss: 5.4788\n",
      "Epoch 17/100\n",
      "4806/4806 [==============================] - 3s 662us/step - loss: 5.3889\n",
      "Epoch 18/100\n",
      "4806/4806 [==============================] - 3s 670us/step - loss: 5.2902\n",
      "Epoch 19/100\n",
      "4806/4806 [==============================] - 3s 669us/step - loss: 5.1950\n",
      "Epoch 20/100\n",
      "4806/4806 [==============================] - 3s 702us/step - loss: 5.1087\n",
      "Epoch 21/100\n",
      "4806/4806 [==============================] - 4s 730us/step - loss: 5.0183\n",
      "Epoch 22/100\n",
      "4806/4806 [==============================] - 4s 863us/step - loss: 4.9359\n",
      "Epoch 23/100\n",
      "4806/4806 [==============================] - 4s 774us/step - loss: 4.8458\n",
      "Epoch 24/100\n",
      "4806/4806 [==============================] - 4s 831us/step - loss: 4.7671\n",
      "Epoch 25/100\n",
      "4806/4806 [==============================] - 4s 760us/step - loss: 4.6859\n",
      "Epoch 26/100\n",
      "4806/4806 [==============================] - 3s 701us/step - loss: 4.6040\n",
      "Epoch 27/100\n",
      "4806/4806 [==============================] - 3s 692us/step - loss: 4.5201\n",
      "Epoch 28/100\n",
      "4806/4806 [==============================] - 3s 704us/step - loss: 4.4416 \n",
      "Epoch 29/100\n",
      "4806/4806 [==============================] - 4s 775us/step - loss: 4.3668\n",
      "Epoch 30/100\n",
      "4806/4806 [==============================] - 4s 810us/step - loss: 4.2927\n",
      "Epoch 31/100\n",
      "4806/4806 [==============================] - 4s 802us/step - loss: 4.2174\n",
      "Epoch 32/100\n",
      "4806/4806 [==============================] - 4s 735us/step - loss: 4.1479\n",
      "Epoch 33/100\n",
      "4806/4806 [==============================] - 4s 796us/step - loss: 4.0801 0\n",
      "Epoch 34/100\n",
      "4806/4806 [==============================] - 4s 755us/step - loss: 4.0121\n",
      "Epoch 35/100\n",
      "4806/4806 [==============================] - 4s 743us/step - loss: 3.9365\n",
      "Epoch 36/100\n",
      "4806/4806 [==============================] - 4s 755us/step - loss: 3.8757\n",
      "Epoch 37/100\n",
      "4806/4806 [==============================] - 4s 825us/step - loss: 3.8032\n",
      "Epoch 38/100\n",
      "4806/4806 [==============================] - 4s 854us/step - loss: 3.7428\n",
      "Epoch 39/100\n",
      "4806/4806 [==============================] - 4s 800us/step - loss: 3.6819\n",
      "Epoch 40/100\n",
      "4806/4806 [==============================] - 4s 877us/step - loss: 3.6266\n",
      "Epoch 41/100\n",
      "4806/4806 [==============================] - 4s 878us/step - loss: 3.5597\n",
      "Epoch 42/100\n",
      "4806/4806 [==============================] - 4s 827us/step - loss: 3.5001 0\n",
      "Epoch 43/100\n",
      "4806/4806 [==============================] - 4s 828us/step - loss: 3.4427\n",
      "Epoch 44/100\n",
      "4806/4806 [==============================] - 4s 831us/step - loss: 3.3814\n",
      "Epoch 45/100\n",
      "4806/4806 [==============================] - 4s 913us/step - loss: 3.3327\n",
      "Epoch 46/100\n",
      "4806/4806 [==============================] - 4s 917us/step - loss: 3.2746\n",
      "Epoch 47/100\n",
      "4806/4806 [==============================] - 4s 855us/step - loss: 3.2298\n",
      "Epoch 48/100\n",
      "4806/4806 [==============================] - 4s 861us/step - loss: 3.1768\n",
      "Epoch 49/100\n",
      "4806/4806 [==============================] - 4s 910us/step - loss: 3.1339\n",
      "Epoch 50/100\n",
      "4806/4806 [==============================] - 4s 920us/step - loss: 3.0774\n",
      "Epoch 51/100\n",
      "4806/4806 [==============================] - 4s 904us/step - loss: 3.0376 1s - loss:  - ETA: 0s - \n",
      "Epoch 52/100\n",
      "4806/4806 [==============================] - 5s 1ms/step - loss: 2.9928A\n",
      "Epoch 53/100\n",
      "4806/4806 [==============================] - 5s 994us/step - loss: 2.9481\n",
      "Epoch 54/100\n",
      "4806/4806 [==============================] - 5s 943us/step - loss: 2.9106\n",
      "Epoch 55/100\n",
      "4806/4806 [==============================] - 5s 971us/step - loss: 2.8741\n",
      "Epoch 56/100\n",
      "4806/4806 [==============================] - 5s 1ms/step - loss: 2.8146A: \n",
      "Epoch 57/100\n",
      "4806/4806 [==============================] - 5s 1ms/step - loss: 2.7794\n",
      "Epoch 58/100\n",
      "4806/4806 [==============================] - 5s 1ms/step - loss: 2.7394\n",
      "Epoch 59/100\n",
      "4806/4806 [==============================] - 5s 1ms/step - loss: 2.7074A: 0s - loss\n",
      "Epoch 60/100\n",
      "4806/4806 [==============================] - 5s 1ms/step - loss: 2.6727A: 0s - loss: \n",
      "Epoch 61/100\n",
      "4806/4806 [==============================] - 5s 1ms/step - loss: 2.6382\n",
      "Epoch 62/100\n",
      "4806/4806 [==============================] - 5s 1ms/step - loss: 2.5901\n",
      "Epoch 63/100\n",
      "4806/4806 [==============================] - 5s 1ms/step - loss: 2.5636\n",
      "Epoch 64/100\n",
      "4806/4806 [==============================] - 5s 1ms/step - loss: 2.5331\n",
      "Epoch 65/100\n",
      "4806/4806 [==============================] - 5s 1ms/step - loss: 2.4975\n",
      "Epoch 66/100\n",
      "4806/4806 [==============================] - 5s 1ms/step - loss: 2.4622\n",
      "Epoch 67/100\n",
      "4806/4806 [==============================] - 5s 1ms/step - loss: 2.4266\n",
      "Epoch 68/100\n",
      "4806/4806 [==============================] - 5s 1ms/step - loss: 2.3933\n",
      "Epoch 69/100\n",
      "4806/4806 [==============================] - 5s 1ms/step - loss: 2.3725\n",
      "Epoch 70/100\n",
      "4806/4806 [==============================] - 6s 1ms/step - loss: 2.3407\n",
      "Epoch 71/100\n",
      "4806/4806 [==============================] - 6s 1ms/step - loss: 2.3097\n",
      "Epoch 72/100\n",
      "4806/4806 [==============================] - 6s 1ms/step - loss: 2.2877\n",
      "Epoch 73/100\n",
      "4806/4806 [==============================] - 5s 1ms/step - loss: 2.2669\n",
      "Epoch 74/100\n",
      "4806/4806 [==============================] - 6s 1ms/step - loss: 2.2287\n",
      "Epoch 75/100\n",
      "4806/4806 [==============================] - 6s 1ms/step - loss: 2.1994\n",
      "Epoch 76/100\n",
      "4806/4806 [==============================] - 5s 1ms/step - loss: 2.1752\n",
      "Epoch 77/100\n",
      "4806/4806 [==============================] - 6s 1ms/step - loss: 2.1468\n",
      "Epoch 78/100\n",
      "4806/4806 [==============================] - 6s 1ms/step - loss: 2.1153\n",
      "Epoch 79/100\n",
      "4806/4806 [==============================] - 6s 1ms/step - loss: 2.0884\n",
      "Epoch 80/100\n",
      "4806/4806 [==============================] - 6s 1ms/step - loss: 2.0780\n",
      "Epoch 81/100\n",
      "4806/4806 [==============================] - 7s 1ms/step - loss: 2.0545\n",
      "Epoch 82/100\n",
      "4806/4806 [==============================] - 6s 1ms/step - loss: 2.0152\n",
      "Epoch 83/100\n",
      "4806/4806 [==============================] - 6s 1ms/step - loss: 1.9942\n",
      "Epoch 84/100\n",
      "4806/4806 [==============================] - 6s 1ms/step - loss: 1.9760\n",
      "Epoch 85/100\n",
      "4806/4806 [==============================] - 6s 1ms/step - loss: 1.9350\n",
      "Epoch 86/100\n",
      "4806/4806 [==============================] - 6s 1ms/step - loss: 1.9280\n",
      "Epoch 87/100\n",
      "4806/4806 [==============================] - 6s 1ms/step - loss: 1.9058A: 0s - los\n",
      "Epoch 88/100\n",
      "4806/4806 [==============================] - 6s 1ms/step - loss: 1.8804\n",
      "Epoch 89/100\n",
      "4806/4806 [==============================] - 6s 1ms/step - loss: 1.8557A: 0s - loss: 1.8\n",
      "Epoch 90/100\n",
      "4806/4806 [==============================] - 9s 2ms/step - loss: 1.8444\n",
      "Epoch 91/100\n",
      "4806/4806 [==============================] - 8s 2ms/step - loss: 1.8146\n",
      "Epoch 92/100\n",
      "4806/4806 [==============================] - 8s 2ms/step - loss: 1.7882\n",
      "Epoch 93/100\n",
      "4806/4806 [==============================] - 8s 2ms/step - loss: 1.7697\n",
      "Epoch 94/100\n"
     ]
    },
    {
     "name": "stdout",
     "output_type": "stream",
     "text": [
      "4806/4806 [==============================] - 8s 2ms/step - loss: 1.7535\n",
      "Epoch 95/100\n",
      "4806/4806 [==============================] - 7s 2ms/step - loss: 1.7343\n",
      "Epoch 96/100\n",
      "4806/4806 [==============================] - 8s 2ms/step - loss: 1.7169\n",
      "Epoch 97/100\n",
      "4806/4806 [==============================] - 8s 2ms/step - loss: 1.6993\n",
      "Epoch 98/100\n",
      "4806/4806 [==============================] - 9s 2ms/step - loss: 1.6721\n",
      "Epoch 99/100\n",
      "4806/4806 [==============================] - 9s 2ms/step - loss: 1.6527\n",
      "Epoch 100/100\n",
      "4806/4806 [==============================] - 9s 2ms/step - loss: 1.6327A\n"
     ]
    },
    {
     "data": {
      "text/plain": [
       "<keras.callbacks.callbacks.History at 0x26f75456f08>"
      ]
     },
     "execution_count": 10,
     "metadata": {},
     "output_type": "execute_result"
    }
   ],
   "source": [
    "model.fit(predictors, label, epochs=100)"
   ]
  },
  {
   "cell_type": "code",
   "execution_count": 11,
   "metadata": {},
   "outputs": [],
   "source": [
    "def generate_text(seed_text, next_words, model, max_sequence_len):\n",
    "    for _ in range(next_words):\n",
    "        token_list = tokenizer.texts_to_sequences([seed_text])[0]\n",
    "        token_list = pad_sequences([token_list], maxlen=max_sequence_len-1, padding='pre')\n",
    "        predicted = model.predict_classes(token_list, verbose=0)\n",
    "        \n",
    "        output_word = \"\"\n",
    "        for word,index in tokenizer.word_index.items():\n",
    "            if index == predicted:\n",
    "                output_word = word\n",
    "                break\n",
    "        seed_text += \" \"+output_word\n",
    "    return seed_text.title()"
   ]
  },
  {
   "cell_type": "code",
   "execution_count": 13,
   "metadata": {},
   "outputs": [
    {
     "name": "stdout",
     "output_type": "stream",
     "text": [
      "United States York Today A Holocaust Survivors Story On Stage Trump Trump Them Them Say Pick An\n",
      "Preident Trump Mailbag A Patriots Photo Lets Trump Score A Point Says By The Times Does Too Elegy An Scout By Too Soldier Thats Concerns Say Safety Concerns Too Intervened An Soldier Will Rages Transgender Risk Everunfolding Elegy Chelsea Tried Chelsea Transgender The\n",
      "Donald Trump May Helping Plan And\n",
      "India And China You Old Divide To Avoid Chaos Make Black Toddlers For Them All Them Do\n",
      "New York Today A Holocaust Survivors Story On Stage This He Medicine\n",
      "Science And Technology Going Yanks Steal Mets Thunder Over Banning A Border Of Fathers Day On Oranges To Pick\n"
     ]
    }
   ],
   "source": [
    "print (generate_text(\"united states\", 15, model, max_sequence_len))\n",
    "print (generate_text(\"preident trump\", 41, model, max_sequence_len))\n",
    "print (generate_text(\"donald trump\", 4, model, max_sequence_len))\n",
    "print (generate_text(\"india and china\", 14, model, max_sequence_len))\n",
    "print (generate_text(\"new york\", 10, model, max_sequence_len))\n",
    "print (generate_text(\"science and technology\", 16, model, max_sequence_len))"
   ]
  }
 ],
 "metadata": {
  "kernelspec": {
   "display_name": "Python 3",
   "language": "python",
   "name": "python3"
  },
  "language_info": {
   "codemirror_mode": {
    "name": "ipython",
    "version": 3
   },
   "file_extension": ".py",
   "mimetype": "text/x-python",
   "name": "python",
   "nbconvert_exporter": "python",
   "pygments_lexer": "ipython3",
   "version": "3.7.4"
  }
 },
 "nbformat": 4,
 "nbformat_minor": 2
}
